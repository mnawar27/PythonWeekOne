{
  "cells": [
    {
      "cell_type": "markdown",
      "id": "1331faa1",
      "metadata": {
        "id": "1331faa1"
      },
      "source": [
        "You can order print and ebook versions of *Think Python 3e* from\n",
        "[Bookshop.org](https://bookshop.org/a/98697/9781098155438) and\n",
        "[Amazon](https://www.amazon.com/_/dp/1098155432?smid=ATVPDKIKX0DER&_encoding=UTF8&tag=oreilly20-20&_encoding=UTF8&tag=greenteapre01-20&linkCode=ur2&linkId=e2a529f94920295d27ec8a06e757dc7c&camp=1789&creative=9325)."
      ]
    },
    {
      "cell_type": "code",
      "execution_count": 1,
      "id": "295ac6d7",
      "metadata": {
        "tags": [],
        "id": "295ac6d7",
        "outputId": "9436858a-483f-4839-ae95-4b509b161d7f",
        "colab": {
          "base_uri": "https://localhost:8080/"
        }
      },
      "outputs": [
        {
          "output_type": "stream",
          "name": "stdout",
          "text": [
            "Downloaded thinkpython.py\n",
            "Downloaded diagram.py\n"
          ]
        }
      ],
      "source": [
        "from os.path import basename, exists\n",
        "\n",
        "def download(url):\n",
        "    filename = basename(url)\n",
        "    if not exists(filename):\n",
        "        from urllib.request import urlretrieve\n",
        "\n",
        "        local, _ = urlretrieve(url, filename)\n",
        "        print(\"Downloaded \" + str(local))\n",
        "    return filename\n",
        "\n",
        "download('https://github.com/AllenDowney/ThinkPython/raw/v3/thinkpython.py');\n",
        "download('https://github.com/AllenDowney/ThinkPython/raw/v3/diagram.py');\n",
        "\n",
        "import thinkpython"
      ]
    },
    {
      "cell_type": "markdown",
      "id": "5705b2a6",
      "metadata": {
        "tags": [],
        "id": "5705b2a6"
      },
      "source": [
        "# Tuples\n",
        "\n",
        "This chapter introduces one more built-in type, the tuple, and then shows how lists, dictionaries, and tuples work together.\n",
        "It also presents tuple assignment and a useful feature for functions with variable-length argument lists: the packing and unpacking operators.\n",
        "\n",
        "In the exercises, we'll use tuples, along with lists and dictionaries, to solve more word puzzles and implement efficient algorithms.\n",
        "\n",
        "One note: There are two ways to pronounce \"tuple\".\n",
        "Some people say \"tuh-ple\", which rhymes with \"supple\".\n",
        "But in the context of programming, most people say \"too-ple\", which rhymes with \"quadruple\"."
      ]
    },
    {
      "cell_type": "markdown",
      "id": "19474596",
      "metadata": {
        "id": "19474596"
      },
      "source": [
        "## Tuples are like lists\n",
        "\n",
        "A tuple is a sequence of values. The values can be any type, and they are indexed by integers, so tuples are a lot like lists.\n",
        "The important difference is that tuples are immutable.\n",
        "\n",
        "To create a tuple, you can write a comma-separated list of values."
      ]
    },
    {
      "cell_type": "code",
      "execution_count": 2,
      "id": "fb0bdca2",
      "metadata": {
        "id": "fb0bdca2",
        "outputId": "40fdacad-2d7a-4abd-e36e-5e6a4d8b22d5",
        "colab": {
          "base_uri": "https://localhost:8080/"
        }
      },
      "outputs": [
        {
          "output_type": "execute_result",
          "data": {
            "text/plain": [
              "tuple"
            ]
          },
          "metadata": {},
          "execution_count": 2
        }
      ],
      "source": [
        "t = 'l', 'u', 'p', 'i', 'n'\n",
        "type(t)"
      ]
    },
    {
      "cell_type": "markdown",
      "id": "a2ec15d8",
      "metadata": {
        "id": "a2ec15d8"
      },
      "source": [
        "Although it is not necessary, it is common to enclose tuples in parentheses."
      ]
    },
    {
      "cell_type": "code",
      "execution_count": 3,
      "id": "5a6da881",
      "metadata": {
        "id": "5a6da881",
        "outputId": "9cc7c547-de38-459d-fbb3-1b5a549c1c55",
        "colab": {
          "base_uri": "https://localhost:8080/"
        }
      },
      "outputs": [
        {
          "output_type": "execute_result",
          "data": {
            "text/plain": [
              "tuple"
            ]
          },
          "metadata": {},
          "execution_count": 3
        }
      ],
      "source": [
        "t = ('l', 'u', 'p', 'i', 'n')\n",
        "type(t)"
      ]
    },
    {
      "cell_type": "markdown",
      "id": "9194a159",
      "metadata": {
        "id": "9194a159"
      },
      "source": [
        "To create a tuple with a single element, you have to include a final comma."
      ]
    },
    {
      "cell_type": "code",
      "execution_count": 4,
      "id": "e2596ca7",
      "metadata": {
        "id": "e2596ca7",
        "outputId": "881f1998-560d-4142-a03c-af50ac4d1953",
        "colab": {
          "base_uri": "https://localhost:8080/"
        }
      },
      "outputs": [
        {
          "output_type": "execute_result",
          "data": {
            "text/plain": [
              "tuple"
            ]
          },
          "metadata": {},
          "execution_count": 4
        }
      ],
      "source": [
        "t1 = 'p',\n",
        "type(t1)"
      ]
    },
    {
      "cell_type": "markdown",
      "id": "e39b95a5",
      "metadata": {
        "id": "e39b95a5"
      },
      "source": [
        "A single value in parentheses is not a tuple."
      ]
    },
    {
      "cell_type": "code",
      "execution_count": 5,
      "id": "a0d350a6",
      "metadata": {
        "id": "a0d350a6",
        "outputId": "89c29abc-cd72-49b2-e624-14f501676aa9",
        "colab": {
          "base_uri": "https://localhost:8080/"
        }
      },
      "outputs": [
        {
          "output_type": "execute_result",
          "data": {
            "text/plain": [
              "str"
            ]
          },
          "metadata": {},
          "execution_count": 5
        }
      ],
      "source": [
        "t2 = ('p')\n",
        "type(t2)"
      ]
    },
    {
      "cell_type": "markdown",
      "id": "a64bfb64",
      "metadata": {
        "id": "a64bfb64"
      },
      "source": [
        "Another way to create a tuple is the built-in function `tuple`. With no\n",
        "argument, it creates an empty tuple."
      ]
    },
    {
      "cell_type": "code",
      "execution_count": 6,
      "id": "c9100ee4",
      "metadata": {
        "id": "c9100ee4",
        "outputId": "d992ad85-f82f-49a8-bdfd-8911730ae1e1",
        "colab": {
          "base_uri": "https://localhost:8080/"
        }
      },
      "outputs": [
        {
          "output_type": "execute_result",
          "data": {
            "text/plain": [
              "()"
            ]
          },
          "metadata": {},
          "execution_count": 6
        }
      ],
      "source": [
        "t = tuple()\n",
        "t"
      ]
    },
    {
      "cell_type": "markdown",
      "id": "f3447831",
      "metadata": {
        "id": "f3447831"
      },
      "source": [
        "If the argument is a sequence (string, list or tuple), the result is a\n",
        "tuple with the elements of the sequence."
      ]
    },
    {
      "cell_type": "code",
      "execution_count": 7,
      "id": "44bd3d83",
      "metadata": {
        "id": "44bd3d83",
        "outputId": "f604ea9d-8ef6-44d4-ce2b-f7ca43e407a8",
        "colab": {
          "base_uri": "https://localhost:8080/"
        }
      },
      "outputs": [
        {
          "output_type": "execute_result",
          "data": {
            "text/plain": [
              "('l', 'u', 'p', 'i', 'n')"
            ]
          },
          "metadata": {},
          "execution_count": 7
        }
      ],
      "source": [
        "t = tuple('lupin')\n",
        "t"
      ]
    },
    {
      "cell_type": "markdown",
      "id": "2e48b980",
      "metadata": {
        "id": "2e48b980"
      },
      "source": [
        "Because `tuple` is the name of a built-in function, you should avoid using it as a variable name.\n",
        "\n",
        "Most list operators also work with tuples.\n",
        "For example, the bracket operator indexes an element."
      ]
    },
    {
      "cell_type": "code",
      "execution_count": 8,
      "id": "92e55b2c",
      "metadata": {
        "id": "92e55b2c",
        "outputId": "abac5473-5355-46f1-a7a5-18e00567d6c5",
        "colab": {
          "base_uri": "https://localhost:8080/",
          "height": 35
        }
      },
      "outputs": [
        {
          "output_type": "execute_result",
          "data": {
            "text/plain": [
              "'l'"
            ],
            "application/vnd.google.colaboratory.intrinsic+json": {
              "type": "string"
            }
          },
          "metadata": {},
          "execution_count": 8
        }
      ],
      "source": [
        "t[0]"
      ]
    },
    {
      "cell_type": "markdown",
      "id": "2f702785",
      "metadata": {
        "id": "2f702785"
      },
      "source": [
        "And the slice operator selects a range of elements."
      ]
    },
    {
      "cell_type": "code",
      "execution_count": 9,
      "id": "38ee5c2a",
      "metadata": {
        "id": "38ee5c2a",
        "outputId": "396c0533-0f21-4f24-c94a-a2956892cb48",
        "colab": {
          "base_uri": "https://localhost:8080/"
        }
      },
      "outputs": [
        {
          "output_type": "execute_result",
          "data": {
            "text/plain": [
              "('u', 'p')"
            ]
          },
          "metadata": {},
          "execution_count": 9
        }
      ],
      "source": [
        "t[1:3]"
      ]
    },
    {
      "cell_type": "markdown",
      "id": "c9ed9af2",
      "metadata": {
        "id": "c9ed9af2"
      },
      "source": [
        "The `+` operator concatenates tuples."
      ]
    },
    {
      "cell_type": "code",
      "execution_count": 10,
      "id": "2e0e311a",
      "metadata": {
        "id": "2e0e311a",
        "outputId": "a4477d69-018b-4721-d450-d6786e1e1319",
        "colab": {
          "base_uri": "https://localhost:8080/"
        }
      },
      "outputs": [
        {
          "output_type": "execute_result",
          "data": {
            "text/plain": [
              "('l', 'u', 'p', 'i', 'n')"
            ]
          },
          "metadata": {},
          "execution_count": 10
        }
      ],
      "source": [
        "tuple('lup') + ('i', 'n')"
      ]
    },
    {
      "cell_type": "markdown",
      "id": "1d7dcd6d",
      "metadata": {
        "id": "1d7dcd6d"
      },
      "source": [
        "And the `*` operator duplicates a tuple a given number of times."
      ]
    },
    {
      "cell_type": "code",
      "execution_count": 11,
      "id": "8bb7d715",
      "metadata": {
        "id": "8bb7d715",
        "outputId": "a0314f8f-da2e-440a-e54b-735b19803bb6",
        "colab": {
          "base_uri": "https://localhost:8080/"
        }
      },
      "outputs": [
        {
          "output_type": "execute_result",
          "data": {
            "text/plain": [
              "('s', 'p', 'a', 'm', 's', 'p', 'a', 'm')"
            ]
          },
          "metadata": {},
          "execution_count": 11
        }
      ],
      "source": [
        "tuple('spam') * 2"
      ]
    },
    {
      "cell_type": "markdown",
      "id": "a53ce8bd",
      "metadata": {
        "id": "a53ce8bd"
      },
      "source": [
        "The `sorted` function works with tuples -- but the result is a list, not a tuple."
      ]
    },
    {
      "cell_type": "code",
      "execution_count": 12,
      "id": "e653e00f",
      "metadata": {
        "id": "e653e00f",
        "outputId": "b557837d-4e98-4847-f047-c487235ea153",
        "colab": {
          "base_uri": "https://localhost:8080/"
        }
      },
      "outputs": [
        {
          "output_type": "execute_result",
          "data": {
            "text/plain": [
              "['i', 'l', 'n', 'p', 'u']"
            ]
          },
          "metadata": {},
          "execution_count": 12
        }
      ],
      "source": [
        "sorted(t)"
      ]
    },
    {
      "cell_type": "markdown",
      "id": "50e5cadc",
      "metadata": {
        "id": "50e5cadc"
      },
      "source": [
        "The `reversed` function also works with tuples."
      ]
    },
    {
      "cell_type": "code",
      "execution_count": 13,
      "id": "8969188d",
      "metadata": {
        "id": "8969188d",
        "outputId": "4e91e0a3-896e-4fd7-e0c5-73c9bc166777",
        "colab": {
          "base_uri": "https://localhost:8080/"
        }
      },
      "outputs": [
        {
          "output_type": "execute_result",
          "data": {
            "text/plain": [
              "<reversed at 0x7eefccc2d5a0>"
            ]
          },
          "metadata": {},
          "execution_count": 13
        }
      ],
      "source": [
        "reversed(t)"
      ]
    },
    {
      "cell_type": "markdown",
      "id": "f6d973c5",
      "metadata": {
        "id": "f6d973c5"
      },
      "source": [
        "The result is a `reversed` object, which we can convert to a list or tuple."
      ]
    },
    {
      "cell_type": "code",
      "execution_count": 14,
      "id": "65d7ebaa",
      "metadata": {
        "id": "65d7ebaa",
        "outputId": "d23c0712-df7a-44e0-bad6-bc0db1d28c73",
        "colab": {
          "base_uri": "https://localhost:8080/"
        }
      },
      "outputs": [
        {
          "output_type": "execute_result",
          "data": {
            "text/plain": [
              "('n', 'i', 'p', 'u', 'l')"
            ]
          },
          "metadata": {},
          "execution_count": 14
        }
      ],
      "source": [
        "tuple(reversed(t))"
      ]
    },
    {
      "cell_type": "markdown",
      "id": "a7cb9ee6",
      "metadata": {
        "id": "a7cb9ee6"
      },
      "source": [
        "Based on the examples so far, it might seem like tuples are the same as lists."
      ]
    },
    {
      "cell_type": "markdown",
      "id": "8c3f381e",
      "metadata": {
        "id": "8c3f381e"
      },
      "source": [
        "## But tuples are immutable\n",
        "\n",
        "If you try to modify a tuple with the bracket operator, you get a `TypeError`."
      ]
    },
    {
      "cell_type": "code",
      "execution_count": 15,
      "id": "b4970fe0",
      "metadata": {
        "tags": [],
        "id": "b4970fe0",
        "outputId": "137a27d8-1f59-4f3d-88f3-694ddc183081",
        "colab": {
          "base_uri": "https://localhost:8080/",
          "height": 55
        }
      },
      "outputs": [
        {
          "output_type": "error",
          "ename": "TypeError",
          "evalue": "'tuple' object does not support item assignment",
          "traceback": [
            "\u001b[0;31mTypeError\u001b[0m\u001b[0;31m:\u001b[0m 'tuple' object does not support item assignment\n"
          ]
        }
      ],
      "source": [
        "%%expect TypeError\n",
        "t[0] = 'L'"
      ]
    },
    {
      "cell_type": "markdown",
      "id": "592ce99c",
      "metadata": {
        "id": "592ce99c"
      },
      "source": [
        "And tuples don't have any of the methods that modify lists, like `append` and `remove`."
      ]
    },
    {
      "cell_type": "code",
      "execution_count": 16,
      "id": "772738cc",
      "metadata": {
        "tags": [],
        "id": "772738cc",
        "outputId": "c04df2bb-c76c-421c-e821-f3bd006457c6",
        "colab": {
          "base_uri": "https://localhost:8080/",
          "height": 55
        }
      },
      "outputs": [
        {
          "output_type": "error",
          "ename": "AttributeError",
          "evalue": "'tuple' object has no attribute 'remove'",
          "traceback": [
            "\u001b[0;31mAttributeError\u001b[0m\u001b[0;31m:\u001b[0m 'tuple' object has no attribute 'remove'\n"
          ]
        }
      ],
      "source": [
        "%%expect AttributeError\n",
        "\n",
        "t.remove('l')"
      ]
    },
    {
      "cell_type": "markdown",
      "id": "70772ba2",
      "metadata": {
        "id": "70772ba2"
      },
      "source": [
        "Recall that an \"attribute\" is a variable or method associated with an object -- this error message means that tuples don't have a method named `remove`.\n",
        "\n",
        "Because tuples are immutable, they are hashable, which means they can be used as keys in a dictionary.\n",
        "For example, the following dictionary contains two tuples as keys that map to integers."
      ]
    },
    {
      "cell_type": "code",
      "execution_count": 17,
      "id": "37e67042",
      "metadata": {
        "id": "37e67042"
      },
      "outputs": [],
      "source": [
        "d = {}\n",
        "d[1, 2] = 3\n",
        "d[3, 4] = 7"
      ]
    },
    {
      "cell_type": "markdown",
      "id": "47ba17ab",
      "metadata": {
        "id": "47ba17ab"
      },
      "source": [
        "We can look up a tuple in a dictionary like this:"
      ]
    },
    {
      "cell_type": "code",
      "execution_count": 18,
      "id": "d809a490",
      "metadata": {
        "id": "d809a490",
        "outputId": "6f4565d0-d796-4f14-ee3a-b8d38c7fac02",
        "colab": {
          "base_uri": "https://localhost:8080/"
        }
      },
      "outputs": [
        {
          "output_type": "execute_result",
          "data": {
            "text/plain": [
              "3"
            ]
          },
          "metadata": {},
          "execution_count": 18
        }
      ],
      "source": [
        "d[1, 2]"
      ]
    },
    {
      "cell_type": "markdown",
      "id": "f2c0a354",
      "metadata": {
        "id": "f2c0a354"
      },
      "source": [
        "Or if we have a variable that refers to a tuple, we can use it as a key."
      ]
    },
    {
      "cell_type": "code",
      "execution_count": 19,
      "id": "dfc42a8b",
      "metadata": {
        "id": "dfc42a8b",
        "outputId": "53fe33d0-5641-4c4f-d121-bf91d868fa36",
        "colab": {
          "base_uri": "https://localhost:8080/"
        }
      },
      "outputs": [
        {
          "output_type": "execute_result",
          "data": {
            "text/plain": [
              "7"
            ]
          },
          "metadata": {},
          "execution_count": 19
        }
      ],
      "source": [
        "t = (3, 4)\n",
        "d[t]"
      ]
    },
    {
      "cell_type": "markdown",
      "id": "2ea8fc3c",
      "metadata": {
        "id": "2ea8fc3c"
      },
      "source": [
        "Tuples can also appear as values in a dictionary."
      ]
    },
    {
      "cell_type": "code",
      "execution_count": 20,
      "id": "2debf30c",
      "metadata": {
        "id": "2debf30c",
        "outputId": "aee675d6-bafb-459c-efb3-8a31eb2643c4",
        "colab": {
          "base_uri": "https://localhost:8080/"
        }
      },
      "outputs": [
        {
          "output_type": "execute_result",
          "data": {
            "text/plain": [
              "{'key': ('a', 'b', 'c')}"
            ]
          },
          "metadata": {},
          "execution_count": 20
        }
      ],
      "source": [
        "t = tuple('abc')\n",
        "d = {'key': t}\n",
        "d"
      ]
    },
    {
      "cell_type": "markdown",
      "id": "25655ab3",
      "metadata": {
        "id": "25655ab3"
      },
      "source": [
        "## Tuple assignment\n",
        "\n",
        "You can put a tuple of variables on the left side of an assignment, and a tuple of values on the right."
      ]
    },
    {
      "cell_type": "code",
      "execution_count": 21,
      "id": "1e94ea37",
      "metadata": {
        "id": "1e94ea37"
      },
      "outputs": [],
      "source": [
        "a, b = 1, 2"
      ]
    },
    {
      "cell_type": "markdown",
      "id": "92c00ceb",
      "metadata": {
        "id": "92c00ceb"
      },
      "source": [
        "The values are assigned to the variables from left to right -- in this example, `a` gets the value `1` and `b` gets the value `2`.\n",
        "We can display the results like this:"
      ]
    },
    {
      "cell_type": "code",
      "execution_count": 23,
      "id": "99c96c7f",
      "metadata": {
        "id": "99c96c7f",
        "outputId": "d25a1697-8570-4e7b-9305-0240e6bdad3f",
        "colab": {
          "base_uri": "https://localhost:8080/"
        }
      },
      "outputs": [
        {
          "output_type": "execute_result",
          "data": {
            "text/plain": [
              "(1, 2)"
            ]
          },
          "metadata": {},
          "execution_count": 23
        }
      ],
      "source": [
        "a, b"
      ]
    },
    {
      "cell_type": "markdown",
      "id": "6362b36e",
      "metadata": {
        "id": "6362b36e"
      },
      "source": [
        "More generally, if the left side of an assignment is a tuple, the right side can be any kind of sequence -- string, list or tuple.\n",
        "For example, to split an email address into a user name and a domain, you could write:"
      ]
    },
    {
      "cell_type": "code",
      "execution_count": 24,
      "id": "b67881ed",
      "metadata": {
        "id": "b67881ed"
      },
      "outputs": [],
      "source": [
        "email = 'monty@python.org'\n",
        "username, domain = email.split('@')"
      ]
    },
    {
      "cell_type": "markdown",
      "id": "d134a94c",
      "metadata": {
        "id": "d134a94c"
      },
      "source": [
        "The return value from `split` is a list with two elements -- the first element is assigned to `username`, the second to `domain`."
      ]
    },
    {
      "cell_type": "code",
      "execution_count": 25,
      "id": "b4515e2b",
      "metadata": {
        "id": "b4515e2b",
        "outputId": "61005486-6b73-4d4c-85a7-85eec5800cf8",
        "colab": {
          "base_uri": "https://localhost:8080/"
        }
      },
      "outputs": [
        {
          "output_type": "execute_result",
          "data": {
            "text/plain": [
              "('monty', 'python.org')"
            ]
          },
          "metadata": {},
          "execution_count": 25
        }
      ],
      "source": [
        "username, domain"
      ]
    },
    {
      "cell_type": "markdown",
      "id": "5a7e3c62",
      "metadata": {
        "id": "5a7e3c62"
      },
      "source": [
        "The number of variables on the left and the number of values on the\n",
        "right have to be the same -- otherwise you get a `ValueError`."
      ]
    },
    {
      "cell_type": "code",
      "execution_count": 26,
      "id": "8e5b4a14",
      "metadata": {
        "tags": [],
        "id": "8e5b4a14",
        "outputId": "0c4464a7-4a74-4075-82c1-56d8905313c5",
        "colab": {
          "base_uri": "https://localhost:8080/",
          "height": 55
        }
      },
      "outputs": [
        {
          "output_type": "error",
          "ename": "ValueError",
          "evalue": "too many values to unpack (expected 2)",
          "traceback": [
            "\u001b[0;31mValueError\u001b[0m\u001b[0;31m:\u001b[0m too many values to unpack (expected 2)\n"
          ]
        }
      ],
      "source": [
        "%%expect ValueError\n",
        "a, b = 1, 2, 3"
      ]
    },
    {
      "cell_type": "markdown",
      "id": "808c2928",
      "metadata": {
        "id": "808c2928"
      },
      "source": [
        "Tuple assignment is useful if you want to swap the values of two variables.\n",
        "With conventional assignments, you have to use a temporary variable, like this:"
      ]
    },
    {
      "cell_type": "code",
      "execution_count": 27,
      "id": "2389d6de",
      "metadata": {
        "id": "2389d6de"
      },
      "outputs": [],
      "source": [
        "temp = a\n",
        "a = b\n",
        "b = temp"
      ]
    },
    {
      "cell_type": "markdown",
      "id": "98496d02",
      "metadata": {
        "id": "98496d02"
      },
      "source": [
        "That works, but with tuple assignment we can do the same thing without a temporary variable."
      ]
    },
    {
      "cell_type": "code",
      "execution_count": 28,
      "id": "5512edec",
      "metadata": {
        "id": "5512edec"
      },
      "outputs": [],
      "source": [
        "a, b = b, a"
      ]
    },
    {
      "cell_type": "markdown",
      "id": "a66a87bc",
      "metadata": {
        "id": "a66a87bc"
      },
      "source": [
        "This works because all of the expressions on the right side are evaluated before any of the assignments.\n",
        "\n",
        "We can also use tuple assignment in a `for` statement.\n",
        "For example, to loop through the items in a dictionary, we can use the `items` method."
      ]
    },
    {
      "cell_type": "code",
      "execution_count": 29,
      "id": "651ab417",
      "metadata": {
        "id": "651ab417",
        "outputId": "2e70981e-a9d8-48df-f30d-dee6f1aa9988",
        "colab": {
          "base_uri": "https://localhost:8080/"
        }
      },
      "outputs": [
        {
          "output_type": "stream",
          "name": "stdout",
          "text": [
            "one -> 1\n",
            "two -> 2\n"
          ]
        }
      ],
      "source": [
        "d = {'one': 1, 'two': 2}\n",
        "\n",
        "for item in d.items():\n",
        "    key, value = item\n",
        "    print(key, '->', value)"
      ]
    },
    {
      "cell_type": "markdown",
      "id": "dd0d4feb",
      "metadata": {
        "id": "dd0d4feb"
      },
      "source": [
        "Each time through the loop, `item` is assigned a tuple that contains a key and the corresponding value.\n",
        "\n",
        "We can write this loop more concisely, like this:"
      ]
    },
    {
      "cell_type": "code",
      "execution_count": 30,
      "id": "2c0b7d47",
      "metadata": {
        "id": "2c0b7d47",
        "outputId": "7e7bf275-1141-491a-98d6-475e58707c06",
        "colab": {
          "base_uri": "https://localhost:8080/"
        }
      },
      "outputs": [
        {
          "output_type": "stream",
          "name": "stdout",
          "text": [
            "one -> 1\n",
            "two -> 2\n"
          ]
        }
      ],
      "source": [
        "for key, value in d.items():\n",
        "    print(key, '->', value)"
      ]
    },
    {
      "cell_type": "markdown",
      "id": "f0513578",
      "metadata": {
        "id": "f0513578"
      },
      "source": [
        "Each time through the loop, a key and the corresponding value are assigned directly to `key` and `value`."
      ]
    },
    {
      "cell_type": "markdown",
      "id": "efedeb37",
      "metadata": {
        "id": "efedeb37"
      },
      "source": [
        "## Tuples as return values\n",
        "\n",
        "Strictly speaking, a function can only return one value, but if the\n",
        "value is a tuple, the effect is the same as returning multiple values.\n",
        "For example, if you want to divide two integers and compute the quotient\n",
        "and remainder, it is inefficient to compute `x//y` and then `x%y`. It is\n",
        "better to compute them both at the same time.\n",
        "\n",
        "The built-in function `divmod` takes two arguments and returns a tuple\n",
        "of two values, the quotient and remainder."
      ]
    },
    {
      "cell_type": "code",
      "execution_count": 31,
      "id": "fff80eaa",
      "metadata": {
        "id": "fff80eaa",
        "outputId": "d9a5c71a-7597-4d99-d014-41e4cc1b00bc",
        "colab": {
          "base_uri": "https://localhost:8080/"
        }
      },
      "outputs": [
        {
          "output_type": "execute_result",
          "data": {
            "text/plain": [
              "(2, 1)"
            ]
          },
          "metadata": {},
          "execution_count": 31
        }
      ],
      "source": [
        "divmod(7, 3)"
      ]
    },
    {
      "cell_type": "markdown",
      "id": "33f3c57d",
      "metadata": {
        "id": "33f3c57d"
      },
      "source": [
        "We can use tuple assignment to store the elements of the tuple in two variables."
      ]
    },
    {
      "cell_type": "code",
      "execution_count": 32,
      "id": "4a0eb2a9",
      "metadata": {
        "id": "4a0eb2a9",
        "outputId": "28db3e4b-375b-4f7e-92b2-7b25fffe5b20",
        "colab": {
          "base_uri": "https://localhost:8080/"
        }
      },
      "outputs": [
        {
          "output_type": "execute_result",
          "data": {
            "text/plain": [
              "2"
            ]
          },
          "metadata": {},
          "execution_count": 32
        }
      ],
      "source": [
        "quotient, remainder = divmod(7, 3)\n",
        "quotient"
      ]
    },
    {
      "cell_type": "code",
      "execution_count": 34,
      "id": "d74ba1b6",
      "metadata": {
        "id": "d74ba1b6",
        "outputId": "f44f18a3-5744-45d4-8004-91e49e04650d",
        "colab": {
          "base_uri": "https://localhost:8080/"
        }
      },
      "outputs": [
        {
          "output_type": "execute_result",
          "data": {
            "text/plain": [
              "1"
            ]
          },
          "metadata": {},
          "execution_count": 34
        }
      ],
      "source": [
        "remainder"
      ]
    },
    {
      "cell_type": "markdown",
      "id": "15079805",
      "metadata": {
        "id": "15079805"
      },
      "source": [
        "Here is an example of a function that returns a tuple."
      ]
    },
    {
      "cell_type": "code",
      "execution_count": 35,
      "id": "dad3b3bb",
      "metadata": {
        "id": "dad3b3bb"
      },
      "outputs": [],
      "source": [
        "def min_max(t):\n",
        "    return min(t), max(t)"
      ]
    },
    {
      "cell_type": "markdown",
      "id": "43c4e1e0",
      "metadata": {
        "id": "43c4e1e0"
      },
      "source": [
        "`max` and `min` are built-in functions that find the largest and smallest elements of a sequence.\n",
        "`min_max` computes both and returns a tuple of two values."
      ]
    },
    {
      "cell_type": "code",
      "execution_count": 36,
      "id": "fbd90b0e",
      "metadata": {
        "id": "fbd90b0e",
        "outputId": "0088c433-f440-439c-b62a-ab1fe55f6b60",
        "colab": {
          "base_uri": "https://localhost:8080/"
        }
      },
      "outputs": [
        {
          "output_type": "execute_result",
          "data": {
            "text/plain": [
              "(1, 4)"
            ]
          },
          "metadata": {},
          "execution_count": 36
        }
      ],
      "source": [
        "min_max([2, 4, 1, 3])"
      ]
    },
    {
      "cell_type": "markdown",
      "id": "86b60e71",
      "metadata": {
        "id": "86b60e71"
      },
      "source": [
        "We can assign the results to variables like this:"
      ]
    },
    {
      "cell_type": "code",
      "execution_count": 37,
      "id": "5a101efb",
      "metadata": {
        "id": "5a101efb",
        "outputId": "5b789305-dba4-47ec-f720-e45833d5cf8c",
        "colab": {
          "base_uri": "https://localhost:8080/"
        }
      },
      "outputs": [
        {
          "output_type": "execute_result",
          "data": {
            "text/plain": [
              "(1, 4)"
            ]
          },
          "metadata": {},
          "execution_count": 37
        }
      ],
      "source": [
        "low, high = min_max([2, 4, 1, 3])\n",
        "low, high"
      ]
    },
    {
      "cell_type": "markdown",
      "id": "112b5aa2",
      "metadata": {
        "tags": [],
        "id": "112b5aa2"
      },
      "source": [
        "## Argument packing\n",
        "\n",
        "Functions can take a variable number of arguments.\n",
        "A parameter name that begins with the `*` operator **packs** arguments into a tuple.\n",
        "For example, the following function takes any number of arguments and computes their arithmetic mean -- that is, their sum divided by the number of arguments."
      ]
    },
    {
      "cell_type": "code",
      "execution_count": 38,
      "id": "0a33e2d0",
      "metadata": {
        "id": "0a33e2d0"
      },
      "outputs": [],
      "source": [
        "def mean(*args):\n",
        "    return sum(args) / len(args)"
      ]
    },
    {
      "cell_type": "markdown",
      "id": "6044fc1b",
      "metadata": {
        "id": "6044fc1b"
      },
      "source": [
        "The parameter can have any name you like, but `args` is conventional.\n",
        "We can call the function like this:"
      ]
    },
    {
      "cell_type": "code",
      "execution_count": 39,
      "id": "336a08ca",
      "metadata": {
        "id": "336a08ca",
        "outputId": "bd7d3ed9-7425-470c-e269-21677ef4ee15",
        "colab": {
          "base_uri": "https://localhost:8080/"
        }
      },
      "outputs": [
        {
          "output_type": "execute_result",
          "data": {
            "text/plain": [
              "2.0"
            ]
          },
          "metadata": {},
          "execution_count": 39
        }
      ],
      "source": [
        "mean(1, 2, 3)"
      ]
    },
    {
      "cell_type": "markdown",
      "id": "a5e8b158",
      "metadata": {
        "id": "a5e8b158"
      },
      "source": [
        "If you have a sequence of values and you want to pass them to a function as multiple arguments, you can use the `*` operator to **unpack** the tuple.\n",
        "For example, `divmod` takes exactly two arguments -- if you pass a tuple as a parameter, you get an error."
      ]
    },
    {
      "cell_type": "code",
      "execution_count": 40,
      "id": "991810bc",
      "metadata": {
        "tags": [],
        "id": "991810bc",
        "outputId": "1c5fdf33-412a-4671-f724-0020f396e53b",
        "colab": {
          "base_uri": "https://localhost:8080/",
          "height": 55
        }
      },
      "outputs": [
        {
          "output_type": "error",
          "ename": "TypeError",
          "evalue": "divmod expected 2 arguments, got 1",
          "traceback": [
            "\u001b[0;31mTypeError\u001b[0m\u001b[0;31m:\u001b[0m divmod expected 2 arguments, got 1\n"
          ]
        }
      ],
      "source": [
        "%%expect TypeError\n",
        "t = (7, 3)\n",
        "divmod(t)"
      ]
    },
    {
      "cell_type": "markdown",
      "id": "5a9110db",
      "metadata": {
        "id": "5a9110db"
      },
      "source": [
        "Even though the tuple contains two elements, it counts as a single argument.\n",
        "But if you unpack the tuple, it is treated as two arguments."
      ]
    },
    {
      "cell_type": "code",
      "execution_count": 41,
      "id": "f25ebee1",
      "metadata": {
        "id": "f25ebee1",
        "outputId": "a8320aab-5390-46ce-9dd9-1e6d6c365766",
        "colab": {
          "base_uri": "https://localhost:8080/"
        }
      },
      "outputs": [
        {
          "output_type": "execute_result",
          "data": {
            "text/plain": [
              "(2, 1)"
            ]
          },
          "metadata": {},
          "execution_count": 41
        }
      ],
      "source": [
        "divmod(*t)"
      ]
    },
    {
      "cell_type": "markdown",
      "id": "da554863",
      "metadata": {
        "id": "da554863"
      },
      "source": [
        "Packing and unpacking can be useful if you want to adapt the behavior of an existing function.\n",
        "For example, this function takes any number of arguments, removes the lowest and highest, and computes the mean of the rest."
      ]
    },
    {
      "cell_type": "code",
      "execution_count": 43,
      "id": "7ad64412",
      "metadata": {
        "id": "7ad64412"
      },
      "outputs": [],
      "source": [
        "def trimmed_mean(*args):\n",
        "    low, high = min_max(args)\n",
        "    trimmed = list(args)\n",
        "    trimmed.remove(low)\n",
        "    trimmed.remove(high)\n",
        "    return mean(*trimmed)"
      ]
    },
    {
      "cell_type": "markdown",
      "id": "d1e05e49",
      "metadata": {
        "id": "d1e05e49"
      },
      "source": [
        "First it uses `min_max` to find the lowest and highest elements.\n",
        "Then it converts `args` to a list so it can use the `remove` method.\n",
        "Finally it unpacks the list so the elements are passed to `mean` as separate arguments, rather than as a single list.\n",
        "\n",
        "Here's an example that shows the effect."
      ]
    },
    {
      "cell_type": "code",
      "execution_count": 44,
      "id": "b2863701",
      "metadata": {
        "id": "b2863701",
        "outputId": "4152299c-dd9e-44f9-c537-51707a640783",
        "colab": {
          "base_uri": "https://localhost:8080/"
        }
      },
      "outputs": [
        {
          "output_type": "execute_result",
          "data": {
            "text/plain": [
              "4.0"
            ]
          },
          "metadata": {},
          "execution_count": 44
        }
      ],
      "source": [
        "mean(1, 2, 3, 10)"
      ]
    },
    {
      "cell_type": "code",
      "execution_count": 45,
      "id": "cc1afa29",
      "metadata": {
        "id": "cc1afa29",
        "outputId": "10bf81f7-431e-4f0c-c3e5-4a7577052bca",
        "colab": {
          "base_uri": "https://localhost:8080/"
        }
      },
      "outputs": [
        {
          "output_type": "execute_result",
          "data": {
            "text/plain": [
              "2.5"
            ]
          },
          "metadata": {},
          "execution_count": 45
        }
      ],
      "source": [
        "trimmed_mean(1, 2, 3, 10)"
      ]
    },
    {
      "cell_type": "markdown",
      "id": "35e04996",
      "metadata": {
        "id": "35e04996"
      },
      "source": [
        "This kind of \"trimmed\" mean is used in some sports with subjective judging -- like diving and gymnastics -- to reduce the effect of a judge whose score deviates from the others."
      ]
    },
    {
      "cell_type": "markdown",
      "id": "c4572cd2",
      "metadata": {
        "id": "c4572cd2"
      },
      "source": [
        "## Zip\n",
        "\n",
        "Tuples are useful for looping through the elements of two sequences and performing operations on corresponding elements.\n",
        "For example, suppose two teams play a series of seven games, and we record their scores in two lists, one for each team."
      ]
    },
    {
      "cell_type": "code",
      "execution_count": 46,
      "id": "ad3e6f81",
      "metadata": {
        "id": "ad3e6f81"
      },
      "outputs": [],
      "source": [
        "scores1 = [1, 2, 4, 5, 1, 5, 2]\n",
        "scores2 = [5, 5, 2, 2, 5, 2, 3]"
      ]
    },
    {
      "cell_type": "markdown",
      "id": "b44f228b",
      "metadata": {
        "id": "b44f228b"
      },
      "source": [
        "Let's see how many games each team won.\n",
        "We'll use `zip`, which is a built-in function that takes two or more sequences and returns a **zip object**, so-called because it pairs up the elements of the sequences like the teeth of a zipper."
      ]
    },
    {
      "cell_type": "code",
      "execution_count": 47,
      "id": "9ce313ce",
      "metadata": {
        "id": "9ce313ce",
        "outputId": "b5b5de68-9e78-411f-9426-021e97c7f90f",
        "colab": {
          "base_uri": "https://localhost:8080/"
        }
      },
      "outputs": [
        {
          "output_type": "execute_result",
          "data": {
            "text/plain": [
              "<zip at 0x7eefcc7efd00>"
            ]
          },
          "metadata": {},
          "execution_count": 47
        }
      ],
      "source": [
        "zip(scores1, scores2)"
      ]
    },
    {
      "cell_type": "markdown",
      "id": "9adcf8f9",
      "metadata": {
        "id": "9adcf8f9"
      },
      "source": [
        "We can use the zip object to loop through the values in the sequences pairwise."
      ]
    },
    {
      "cell_type": "code",
      "execution_count": 48,
      "id": "321d9c30",
      "metadata": {
        "id": "321d9c30",
        "outputId": "001d71c3-c8a0-478f-df8f-9362ea9ce2f8",
        "colab": {
          "base_uri": "https://localhost:8080/"
        }
      },
      "outputs": [
        {
          "output_type": "stream",
          "name": "stdout",
          "text": [
            "(1, 5)\n",
            "(2, 5)\n",
            "(4, 2)\n",
            "(5, 2)\n",
            "(1, 5)\n",
            "(5, 2)\n",
            "(2, 3)\n"
          ]
        }
      ],
      "source": [
        "for pair in zip(scores1, scores2):\n",
        "     print(pair)"
      ]
    },
    {
      "cell_type": "markdown",
      "id": "51d1dabb",
      "metadata": {
        "id": "51d1dabb"
      },
      "source": [
        "Each time through the loop, `pair` gets assigned a tuple of scores.\n",
        "So we can assign the scores to variables, and count the victories for the first team, like this:"
      ]
    },
    {
      "cell_type": "code",
      "execution_count": 49,
      "id": "7eb73d5d",
      "metadata": {
        "id": "7eb73d5d",
        "outputId": "2b157e14-6d59-41b5-9b01-3732f005d561",
        "colab": {
          "base_uri": "https://localhost:8080/"
        }
      },
      "outputs": [
        {
          "output_type": "execute_result",
          "data": {
            "text/plain": [
              "3"
            ]
          },
          "metadata": {},
          "execution_count": 49
        }
      ],
      "source": [
        "wins = 0\n",
        "for team1, team2 in zip(scores1, scores2):\n",
        "    if team1 > team2:\n",
        "        wins += 1\n",
        "\n",
        "wins"
      ]
    },
    {
      "cell_type": "markdown",
      "id": "ad740fcd",
      "metadata": {
        "id": "ad740fcd"
      },
      "source": [
        "Sadly, the first team won only three games and lost the series.\n",
        "\n",
        "If you have two lists and you want a list of pairs, you can use `zip` and `list`."
      ]
    },
    {
      "cell_type": "code",
      "execution_count": 51,
      "id": "9529baa8",
      "metadata": {
        "id": "9529baa8",
        "outputId": "9c09b41f-b6fc-4b92-c459-3cb933cba000",
        "colab": {
          "base_uri": "https://localhost:8080/"
        }
      },
      "outputs": [
        {
          "output_type": "execute_result",
          "data": {
            "text/plain": [
              "[(1, 5), (2, 5), (4, 2), (5, 2), (1, 5), (5, 2), (2, 3)]"
            ]
          },
          "metadata": {},
          "execution_count": 51
        }
      ],
      "source": [
        "t = list(zip(scores1, scores2))\n",
        "t"
      ]
    },
    {
      "cell_type": "markdown",
      "id": "ec4249fa",
      "metadata": {
        "id": "ec4249fa"
      },
      "source": [
        "The result is a list of tuples, so we can get the result of the last game like this:"
      ]
    },
    {
      "cell_type": "code",
      "execution_count": 52,
      "id": "dbde77b8",
      "metadata": {
        "id": "dbde77b8",
        "outputId": "69e2743f-c85b-4390-9638-99754395fdf1",
        "colab": {
          "base_uri": "https://localhost:8080/"
        }
      },
      "outputs": [
        {
          "output_type": "execute_result",
          "data": {
            "text/plain": [
              "(2, 3)"
            ]
          },
          "metadata": {},
          "execution_count": 52
        }
      ],
      "source": [
        "t[-1]"
      ]
    },
    {
      "cell_type": "markdown",
      "id": "436486b9",
      "metadata": {
        "id": "436486b9"
      },
      "source": [
        "If you have a list of keys and a list of values, you can use `zip` and `dict` to make a dictionary.\n",
        "For example, here's how we can make a dictionary that maps from each letter to its position in the alphabet."
      ]
    },
    {
      "cell_type": "code",
      "execution_count": 53,
      "id": "dbb7d0b3",
      "metadata": {
        "id": "dbb7d0b3"
      },
      "outputs": [],
      "source": [
        "letters = 'abcdefghijklmnopqrstuvwxyz'\n",
        "numbers = range(len(letters))\n",
        "letter_map = dict(zip(letters, numbers))"
      ]
    },
    {
      "cell_type": "code",
      "source": [
        "numbers"
      ],
      "metadata": {
        "id": "wqzB04M8Nnpt",
        "outputId": "f83b28e2-8820-4f23-febc-2fc2ef655d0f",
        "colab": {
          "base_uri": "https://localhost:8080/"
        }
      },
      "id": "wqzB04M8Nnpt",
      "execution_count": 55,
      "outputs": [
        {
          "output_type": "execute_result",
          "data": {
            "text/plain": [
              "range(0, 26)"
            ]
          },
          "metadata": {},
          "execution_count": 55
        }
      ]
    },
    {
      "cell_type": "markdown",
      "id": "b4de6974",
      "metadata": {
        "id": "b4de6974"
      },
      "source": [
        "Now we can look up a letter and get its index in the alphabet."
      ]
    },
    {
      "cell_type": "code",
      "execution_count": 54,
      "id": "49e3fd8e",
      "metadata": {
        "id": "49e3fd8e",
        "outputId": "ba10fa08-05b7-4012-dffb-2622bbd828ec",
        "colab": {
          "base_uri": "https://localhost:8080/"
        }
      },
      "outputs": [
        {
          "output_type": "execute_result",
          "data": {
            "text/plain": [
              "(0, 25)"
            ]
          },
          "metadata": {},
          "execution_count": 54
        }
      ],
      "source": [
        "letter_map['a'], letter_map['z']"
      ]
    },
    {
      "cell_type": "markdown",
      "id": "cc632542",
      "metadata": {
        "id": "cc632542"
      },
      "source": [
        "In this mapping, the index of `'a'` is `0` and the index of `'z'` is `25`.\n",
        "\n",
        "If you need to loop through the elements of a sequence and their indices, you can use the built-in function `enumerate`."
      ]
    },
    {
      "cell_type": "code",
      "execution_count": 56,
      "id": "9e4f3e51",
      "metadata": {
        "id": "9e4f3e51",
        "outputId": "27529a47-de9c-4198-ea98-e879d654a941",
        "colab": {
          "base_uri": "https://localhost:8080/"
        }
      },
      "outputs": [
        {
          "output_type": "execute_result",
          "data": {
            "text/plain": [
              "<enumerate at 0x7eefcc7ef100>"
            ]
          },
          "metadata": {},
          "execution_count": 56
        }
      ],
      "source": [
        "enumerate('abc')"
      ]
    },
    {
      "cell_type": "markdown",
      "id": "92ad45bb",
      "metadata": {
        "id": "92ad45bb"
      },
      "source": [
        "The result is an **enumerate object** that loops through a sequence of pairs, where each pair contains an index (starting from 0) and an element from the given sequence."
      ]
    },
    {
      "cell_type": "code",
      "execution_count": 57,
      "id": "c1dcb46d",
      "metadata": {
        "id": "c1dcb46d",
        "outputId": "bba94a19-3dda-4013-d67a-c5e85ebf63c7",
        "colab": {
          "base_uri": "https://localhost:8080/"
        }
      },
      "outputs": [
        {
          "output_type": "stream",
          "name": "stdout",
          "text": [
            "0 a\n",
            "1 b\n",
            "2 c\n"
          ]
        }
      ],
      "source": [
        "for index, element in enumerate('abc'):\n",
        "    print(index, element)"
      ]
    },
    {
      "cell_type": "markdown",
      "id": "cf0b55d7",
      "metadata": {
        "id": "cf0b55d7"
      },
      "source": [
        "## Comparing and Sorting\n",
        "\n",
        "The relational operators work with tuples and other sequences.\n",
        "For example, if you use the `<` operator with tuples, it starts by comparing the first element from each sequence.\n",
        "If they are equal, it goes on to the next pair of elements, and so on, until it finds a pair that differ."
      ]
    },
    {
      "cell_type": "code",
      "execution_count": 58,
      "id": "aed20c28",
      "metadata": {
        "id": "aed20c28",
        "outputId": "5e225a15-8c01-4ce4-d77f-d74ba6cb939d",
        "colab": {
          "base_uri": "https://localhost:8080/"
        }
      },
      "outputs": [
        {
          "output_type": "execute_result",
          "data": {
            "text/plain": [
              "True"
            ]
          },
          "metadata": {},
          "execution_count": 58
        }
      ],
      "source": [
        "(0, 1, 2) < (0, 3, 4)"
      ]
    },
    {
      "cell_type": "markdown",
      "id": "65ceea86",
      "metadata": {
        "id": "65ceea86"
      },
      "source": [
        "Subsequent elements are not considered -- even if they are really big."
      ]
    },
    {
      "cell_type": "code",
      "execution_count": 59,
      "id": "4d9e73b3",
      "metadata": {
        "id": "4d9e73b3",
        "outputId": "d3e8c082-355a-4bed-8126-5197ef46596d",
        "colab": {
          "base_uri": "https://localhost:8080/"
        }
      },
      "outputs": [
        {
          "output_type": "execute_result",
          "data": {
            "text/plain": [
              "True"
            ]
          },
          "metadata": {},
          "execution_count": 59
        }
      ],
      "source": [
        "(0, 1, 2000000) < (0, 3, 4)"
      ]
    },
    {
      "cell_type": "markdown",
      "id": "55e4a35e",
      "metadata": {
        "id": "55e4a35e"
      },
      "source": [
        "This way of comparing tuples is useful for sorting a list of tuples, or finding the minimum or maximum.\n",
        "As an example, let's find the most common letter in a word.\n",
        "In the previous chapter, we wrote `value_counts`, which takes a string and returns a dictionary that maps from each letter to the number of times it appears."
      ]
    },
    {
      "cell_type": "code",
      "execution_count": 60,
      "id": "2077dfa9",
      "metadata": {
        "id": "2077dfa9"
      },
      "outputs": [],
      "source": [
        "def value_counts(string):\n",
        "    counter = {}\n",
        "    for letter in string:\n",
        "        if letter not in counter:\n",
        "            counter[letter] = 1\n",
        "        else:\n",
        "            counter[letter] += 1\n",
        "    return counter"
      ]
    },
    {
      "cell_type": "markdown",
      "id": "a80012c1",
      "metadata": {
        "id": "a80012c1"
      },
      "source": [
        "Here is the result for the string `'banana'`."
      ]
    },
    {
      "cell_type": "code",
      "execution_count": 61,
      "id": "b3d40516",
      "metadata": {
        "id": "b3d40516",
        "outputId": "a7a8e169-fca1-4f44-9062-fec944b172c7",
        "colab": {
          "base_uri": "https://localhost:8080/"
        }
      },
      "outputs": [
        {
          "output_type": "execute_result",
          "data": {
            "text/plain": [
              "{'b': 1, 'a': 3, 'n': 2}"
            ]
          },
          "metadata": {},
          "execution_count": 61
        }
      ],
      "source": [
        "counter = value_counts('banana')\n",
        "counter"
      ]
    },
    {
      "cell_type": "markdown",
      "id": "cc1ea4a7",
      "metadata": {
        "id": "cc1ea4a7"
      },
      "source": [
        "With only three items, we can easily see that the most frequent letter is `'a'`, which appears three times.\n",
        "But if there were more items, it would be useful to sort them automatically.\n",
        "\n",
        "We can get the items from `counter` like this."
      ]
    },
    {
      "cell_type": "code",
      "execution_count": 62,
      "id": "8288c28f",
      "metadata": {
        "id": "8288c28f",
        "outputId": "4cd0d4e4-b8e2-4610-c8a6-789b5690c87f",
        "colab": {
          "base_uri": "https://localhost:8080/"
        }
      },
      "outputs": [
        {
          "output_type": "execute_result",
          "data": {
            "text/plain": [
              "dict_items([('b', 1), ('a', 3), ('n', 2)])"
            ]
          },
          "metadata": {},
          "execution_count": 62
        }
      ],
      "source": [
        "items = counter.items()\n",
        "items"
      ]
    },
    {
      "cell_type": "markdown",
      "id": "ac8dea7a",
      "metadata": {
        "id": "ac8dea7a"
      },
      "source": [
        "The result is a `dict_items` object that behaves like a list of tuples, so we can sort it like this."
      ]
    },
    {
      "cell_type": "code",
      "execution_count": 63,
      "id": "bbbade35",
      "metadata": {
        "id": "bbbade35",
        "outputId": "0a3dacc8-b564-4cc5-a92f-ff956b52a7bc",
        "colab": {
          "base_uri": "https://localhost:8080/"
        }
      },
      "outputs": [
        {
          "output_type": "execute_result",
          "data": {
            "text/plain": [
              "[('a', 3), ('b', 1), ('n', 2)]"
            ]
          },
          "metadata": {},
          "execution_count": 63
        }
      ],
      "source": [
        "sorted(items)"
      ]
    },
    {
      "cell_type": "markdown",
      "id": "b690d17a",
      "metadata": {
        "id": "b690d17a"
      },
      "source": [
        "The default behavior is to use the first element from each tuple to sort the list, and use the second element to break ties.\n",
        "\n",
        "However, to find the items with the highest counts, we want to use the second element to sort the list.\n",
        "We can do that by writing a function that takes a tuple and returns the second element."
      ]
    },
    {
      "cell_type": "code",
      "execution_count": 64,
      "id": "a4c31795",
      "metadata": {
        "id": "a4c31795"
      },
      "outputs": [],
      "source": [
        "def second_element(t):\n",
        "    return t[1]"
      ]
    },
    {
      "cell_type": "markdown",
      "id": "b964aa14",
      "metadata": {
        "id": "b964aa14"
      },
      "source": [
        "Then we can pass that function to `sorted` as an optional argument called `key`, which indicates that this function should be used to compute the **sort key** for each item."
      ]
    },
    {
      "cell_type": "code",
      "execution_count": 65,
      "id": "f3d3619a",
      "metadata": {
        "id": "f3d3619a",
        "outputId": "9d90e44c-f9d1-4b5b-eb9e-961cd99c1262",
        "colab": {
          "base_uri": "https://localhost:8080/"
        }
      },
      "outputs": [
        {
          "output_type": "execute_result",
          "data": {
            "text/plain": [
              "[('b', 1), ('n', 2), ('a', 3)]"
            ]
          },
          "metadata": {},
          "execution_count": 65
        }
      ],
      "source": [
        "sorted_items = sorted(items, key=second_element)\n",
        "sorted_items"
      ]
    },
    {
      "cell_type": "markdown",
      "id": "4dc96848",
      "metadata": {
        "id": "4dc96848"
      },
      "source": [
        "The sort key determines the order of the items in the list.\n",
        "The letter with the lowest count appears first, and the letter with the highest count appears last.\n",
        "So we can find the most common letter like this."
      ]
    },
    {
      "cell_type": "code",
      "execution_count": 66,
      "id": "f078c8a6",
      "metadata": {
        "id": "f078c8a6",
        "outputId": "67ada6d6-1e65-477f-b33c-282158c5c005",
        "colab": {
          "base_uri": "https://localhost:8080/"
        }
      },
      "outputs": [
        {
          "output_type": "execute_result",
          "data": {
            "text/plain": [
              "('a', 3)"
            ]
          },
          "metadata": {},
          "execution_count": 66
        }
      ],
      "source": [
        "sorted_items[-1]"
      ]
    },
    {
      "cell_type": "markdown",
      "id": "d0d8b999",
      "metadata": {
        "id": "d0d8b999"
      },
      "source": [
        "If we only want the maximum, we don't have to sort the list.\n",
        "We can use `max`, which also takes `key` as an optional argument."
      ]
    },
    {
      "cell_type": "code",
      "execution_count": 67,
      "id": "54030d8f",
      "metadata": {
        "id": "54030d8f",
        "outputId": "ef7f877a-9cfd-450c-877a-9e3203801fda",
        "colab": {
          "base_uri": "https://localhost:8080/"
        }
      },
      "outputs": [
        {
          "output_type": "execute_result",
          "data": {
            "text/plain": [
              "('a', 3)"
            ]
          },
          "metadata": {},
          "execution_count": 67
        }
      ],
      "source": [
        "max(items, key=second_element)"
      ]
    },
    {
      "cell_type": "markdown",
      "id": "8a8327df",
      "metadata": {
        "id": "8a8327df"
      },
      "source": [
        "To find the letter with the lowest count, we could use `min` the same way."
      ]
    },
    {
      "cell_type": "markdown",
      "id": "a62394a5",
      "metadata": {
        "id": "a62394a5"
      },
      "source": [
        "## Inverting a dictionary\n",
        "\n",
        "Suppose you want to invert a dictionary so you can look up a value and get the corresponding key.\n",
        "For example, if you have a word counter that maps from each word to the number of times it appears, you could make a dictionary that maps from integers to the words that appear that number of times.\n",
        "\n",
        "But there's a problem -- the keys in a dictionary have to be unique, but the values don't. For example, in a word counter, there could be many words with the same count.\n",
        "\n",
        "So one way to invert a dictionary is to create a new dictionary where the values are lists of keys from the original.\n",
        "As an example, let's count the letters in `parrot`."
      ]
    },
    {
      "cell_type": "code",
      "execution_count": 68,
      "id": "ef158f81",
      "metadata": {
        "id": "ef158f81",
        "outputId": "0313b747-0dd1-4302-c40f-1936dc6eb2a0",
        "colab": {
          "base_uri": "https://localhost:8080/"
        }
      },
      "outputs": [
        {
          "output_type": "execute_result",
          "data": {
            "text/plain": [
              "{'p': 1, 'a': 1, 'r': 2, 'o': 1, 't': 1}"
            ]
          },
          "metadata": {},
          "execution_count": 68
        }
      ],
      "source": [
        "d =  value_counts('parrot')\n",
        "d"
      ]
    },
    {
      "cell_type": "markdown",
      "id": "f4570eae",
      "metadata": {
        "id": "f4570eae"
      },
      "source": [
        "If we invert this dictionary, the result should be `{1: ['p', 'a', 'o', 't'], 2: ['r']}`, which indicates that the letters that appear once are `'p'`, `'a'`, `'o'`, and `'t'`, and the letter than appears twice is `'r'`.\n",
        "\n",
        "The following function takes a dictionary and returns its inverse as a new dictionary."
      ]
    },
    {
      "cell_type": "code",
      "execution_count": 69,
      "id": "d3607b8d",
      "metadata": {
        "id": "d3607b8d"
      },
      "outputs": [],
      "source": [
        "def invert_dict(d):\n",
        "    new = {}\n",
        "    for key, value in d.items():\n",
        "        if value not in new:\n",
        "            new[value] = [key]\n",
        "        else:\n",
        "            new[value].append(key)\n",
        "    return new"
      ]
    },
    {
      "cell_type": "markdown",
      "id": "ca5fa025",
      "metadata": {
        "id": "ca5fa025"
      },
      "source": [
        "The `for` statement loops through the keys and values in `d`.\n",
        "If the value is not already in the new dictionary, it is added and associated with a list that contains a single element.\n",
        "Otherwise it is appended to the existing list.\n",
        "\n",
        "We can test it like this:"
      ]
    },
    {
      "cell_type": "code",
      "execution_count": 70,
      "id": "692d9cf8",
      "metadata": {
        "id": "692d9cf8",
        "outputId": "0a8966b5-5703-465f-f42c-9232da8a0797",
        "colab": {
          "base_uri": "https://localhost:8080/"
        }
      },
      "outputs": [
        {
          "output_type": "execute_result",
          "data": {
            "text/plain": [
              "{1: ['p', 'a', 'o', 't'], 2: ['r']}"
            ]
          },
          "metadata": {},
          "execution_count": 70
        }
      ],
      "source": [
        "invert_dict(d)"
      ]
    },
    {
      "cell_type": "markdown",
      "id": "4cfb1693",
      "metadata": {
        "id": "4cfb1693"
      },
      "source": [
        "And we get the result we expected.\n",
        "\n",
        "This is the first example we've seen where the values in the dictionary are lists.\n",
        "We will see more!"
      ]
    },
    {
      "cell_type": "markdown",
      "id": "6d138cd7",
      "metadata": {
        "tags": [],
        "id": "6d138cd7"
      },
      "source": [
        "## Debugging\n",
        "\n",
        "Lists, dictionaries and tuples are **data structures**.\n",
        "In this chapter we are starting to see compound data structures, like lists of tuples, or dictionaries that contain tuples as keys and lists as values.\n",
        "Compound data structures are useful, but they are prone to errors caused when a data structure has the wrong type, size, or structure.\n",
        "For example, if a function expects a list if integers and you give it a plain old integer\n",
        "(not in a list), it probably won't work.\n",
        "\n",
        "To help debug these kinds of errors, I wrote a module called `structshape` that provides a function, also called `structshape`, that takes any kind of data structure as an argument and returns a string that summarizes its structure.\n",
        "You can download it from\n",
        "<https://raw.githubusercontent.com/AllenDowney/ThinkPython/v3/structshape.py>."
      ]
    },
    {
      "cell_type": "code",
      "execution_count": 71,
      "id": "e9f03e91",
      "metadata": {
        "tags": [],
        "id": "e9f03e91",
        "outputId": "73fc86d0-5d16-4529-a70f-b5838b429d54",
        "colab": {
          "base_uri": "https://localhost:8080/"
        }
      },
      "outputs": [
        {
          "output_type": "stream",
          "name": "stdout",
          "text": [
            "Downloaded structshape.py\n"
          ]
        }
      ],
      "source": [
        "download('https://raw.githubusercontent.com/AllenDowney/ThinkPython/v3/structshape.py');"
      ]
    },
    {
      "cell_type": "markdown",
      "id": "646f4d55",
      "metadata": {
        "id": "646f4d55"
      },
      "source": [
        "We can import it like this."
      ]
    },
    {
      "cell_type": "code",
      "execution_count": 72,
      "id": "90ab624a",
      "metadata": {
        "id": "90ab624a"
      },
      "outputs": [],
      "source": [
        "from structshape import structshape"
      ]
    },
    {
      "cell_type": "markdown",
      "id": "86cc6ccc",
      "metadata": {
        "id": "86cc6ccc"
      },
      "source": [
        "Here's an example with a simple list."
      ]
    },
    {
      "cell_type": "code",
      "execution_count": 73,
      "id": "6794330f",
      "metadata": {
        "id": "6794330f",
        "outputId": "70e2546f-57e1-4a3e-add9-d6fddaac8626",
        "colab": {
          "base_uri": "https://localhost:8080/",
          "height": 35
        }
      },
      "outputs": [
        {
          "output_type": "execute_result",
          "data": {
            "text/plain": [
              "'list of 3 int'"
            ],
            "application/vnd.google.colaboratory.intrinsic+json": {
              "type": "string"
            }
          },
          "metadata": {},
          "execution_count": 73
        }
      ],
      "source": [
        "t = [1, 2, 3]\n",
        "structshape(t)"
      ]
    },
    {
      "cell_type": "markdown",
      "id": "9de4f6ec",
      "metadata": {
        "id": "9de4f6ec"
      },
      "source": [
        "Here's a list of lists."
      ]
    },
    {
      "cell_type": "code",
      "execution_count": 74,
      "id": "54cd185b",
      "metadata": {
        "id": "54cd185b",
        "outputId": "884d3d49-80be-448a-f31c-374945d494d7",
        "colab": {
          "base_uri": "https://localhost:8080/",
          "height": 35
        }
      },
      "outputs": [
        {
          "output_type": "execute_result",
          "data": {
            "text/plain": [
              "'list of 3 list of 2 int'"
            ],
            "application/vnd.google.colaboratory.intrinsic+json": {
              "type": "string"
            }
          },
          "metadata": {},
          "execution_count": 74
        }
      ],
      "source": [
        "t2 = [[1,2], [3,4], [5,6]]\n",
        "structshape(t2)"
      ]
    },
    {
      "cell_type": "markdown",
      "id": "aced9984",
      "metadata": {
        "id": "aced9984"
      },
      "source": [
        "If the elements of the list are not the same type, `structshape` groups\n",
        "them by type."
      ]
    },
    {
      "cell_type": "code",
      "execution_count": 75,
      "id": "04028afd",
      "metadata": {
        "id": "04028afd",
        "outputId": "130ca3aa-4dd3-4100-8a8f-15fbdafa72ac",
        "colab": {
          "base_uri": "https://localhost:8080/",
          "height": 35
        }
      },
      "outputs": [
        {
          "output_type": "execute_result",
          "data": {
            "text/plain": [
              "'list of (3 int, float, 2 str, 2 list of int, int)'"
            ],
            "application/vnd.google.colaboratory.intrinsic+json": {
              "type": "string"
            }
          },
          "metadata": {},
          "execution_count": 75
        }
      ],
      "source": [
        "t3 = [1, 2, 3, 4.0, '5', '6', [7], [8], 9]\n",
        "structshape(t3)"
      ]
    },
    {
      "cell_type": "markdown",
      "id": "f63ff690",
      "metadata": {
        "id": "f63ff690"
      },
      "source": [
        "Here's a list of tuples."
      ]
    },
    {
      "cell_type": "code",
      "execution_count": 76,
      "id": "b5d45c88",
      "metadata": {
        "id": "b5d45c88",
        "outputId": "cb7f30fa-be22-4103-ca2e-0fba30f7a631",
        "colab": {
          "base_uri": "https://localhost:8080/",
          "height": 35
        }
      },
      "outputs": [
        {
          "output_type": "execute_result",
          "data": {
            "text/plain": [
              "'list of 3 tuple of (int, str)'"
            ],
            "application/vnd.google.colaboratory.intrinsic+json": {
              "type": "string"
            }
          },
          "metadata": {},
          "execution_count": 76
        }
      ],
      "source": [
        "s = 'abc'\n",
        "lt = list(zip(t, s))\n",
        "structshape(lt)"
      ]
    },
    {
      "cell_type": "markdown",
      "id": "c9ec67eb",
      "metadata": {
        "id": "c9ec67eb"
      },
      "source": [
        "And here's a dictionary with three items that map integers to strings."
      ]
    },
    {
      "cell_type": "code",
      "execution_count": 77,
      "id": "15131907",
      "metadata": {
        "id": "15131907",
        "outputId": "b69e6ffd-123b-4592-abf7-285604f4e85e",
        "colab": {
          "base_uri": "https://localhost:8080/",
          "height": 35
        }
      },
      "outputs": [
        {
          "output_type": "execute_result",
          "data": {
            "text/plain": [
              "'dict of 3 int->str'"
            ],
            "application/vnd.google.colaboratory.intrinsic+json": {
              "type": "string"
            }
          },
          "metadata": {},
          "execution_count": 77
        }
      ],
      "source": [
        "d = dict(lt)\n",
        "structshape(d)"
      ]
    },
    {
      "cell_type": "markdown",
      "id": "f29bb82b",
      "metadata": {
        "id": "f29bb82b"
      },
      "source": [
        "If you are having trouble keeping track of your data structures,\n",
        "`structshape` can help."
      ]
    },
    {
      "cell_type": "markdown",
      "id": "79d93082",
      "metadata": {
        "id": "79d93082"
      },
      "source": [
        "## Glossary\n",
        "\n",
        "**pack:**\n",
        "Collect multiple arguments into a tuple.\n",
        "\n",
        "**unpack:**\n",
        "Treat a tuple (or other sequence) as multiple arguments.\n",
        "\n",
        "**zip object:**\n",
        "The result of calling the built-in function `zip`, can be used to loop through a sequence of tuples.\n",
        "\n",
        "**enumerate object:**\n",
        "The result of calling the built-in function `enumerate`, can be used to loop through a sequence of tuples.\n",
        "\n",
        "**sort key:**\n",
        "A value, or function that computes a value, used to sort the elements of a collection.\n",
        "\n",
        "**data structure:**\n",
        "A collection of values, organized to perform certain operations efficiently."
      ]
    },
    {
      "cell_type": "markdown",
      "id": "1471b3c0",
      "metadata": {
        "id": "1471b3c0"
      },
      "source": [
        "## Exercises"
      ]
    },
    {
      "cell_type": "code",
      "execution_count": 78,
      "id": "c65d68d2",
      "metadata": {
        "tags": [],
        "id": "c65d68d2",
        "outputId": "07a4d242-9e5f-4afb-adb1-1a29c5cc306f",
        "colab": {
          "base_uri": "https://localhost:8080/"
        }
      },
      "outputs": [
        {
          "output_type": "stream",
          "name": "stdout",
          "text": [
            "Exception reporting mode: Verbose\n"
          ]
        }
      ],
      "source": [
        "# This cell tells Jupyter to provide detailed debugging information\n",
        "# when a runtime error occurs. Run it before working on the exercises.\n",
        "\n",
        "%xmode Verbose"
      ]
    },
    {
      "cell_type": "markdown",
      "id": "97a0352d",
      "metadata": {
        "id": "97a0352d"
      },
      "source": [
        "### Ask a virtual assistant\n",
        "\n",
        "The exercises in this chapter might be more difficult than exercises in previous chapters, so I encourage you to get help from a virtual assistant.\n",
        "When you pose more difficult questions, you might find that the answers are not correct on the first attempt, so this is a chance to practice crafting good prompts and following up with good refinements.\n",
        "\n",
        "One strategy you might consider is to break a big problems into pieces that can be solved with simple functions.\n",
        "Ask the virtual assistant to write the functions and test them.\n",
        "Then, once they are working, ask for a solution to the original problem.\n",
        "\n",
        "For some of the exercises below, I make suggestions about which data structures and algorithms to use.\n",
        "You might find these suggestions useful when you work on the problems, but they are also good prompts to pass along to a virtual assistant."
      ]
    },
    {
      "cell_type": "markdown",
      "id": "f90e011f",
      "metadata": {
        "id": "f90e011f"
      },
      "source": [
        "### Exercise\n",
        "\n",
        "In this chapter I said that tuples can be used as keys in dictionaries because they are hashable, and they are hashable because they are immutable.\n",
        "But that is not always true.\n",
        "\n",
        "If a tuple contains a mutable value, like a list or a dictionary, the tuple is no longer hashable because it contains elements that are not hashable. As an example, here's a tuple that contains two lists of integers."
      ]
    },
    {
      "cell_type": "code",
      "execution_count": 79,
      "id": "4416fe4a",
      "metadata": {
        "id": "4416fe4a",
        "outputId": "5f902a01-5eb9-4470-862d-ec5a73128fec",
        "colab": {
          "base_uri": "https://localhost:8080/"
        }
      },
      "outputs": [
        {
          "output_type": "execute_result",
          "data": {
            "text/plain": [
              "([1, 2, 3], [4, 5])"
            ]
          },
          "metadata": {},
          "execution_count": 79
        }
      ],
      "source": [
        "list0 = [1, 2, 3]\n",
        "list1 = [4, 5]\n",
        "\n",
        "t = (list0, list1)\n",
        "t"
      ]
    },
    {
      "cell_type": "markdown",
      "id": "02799077",
      "metadata": {
        "id": "02799077"
      },
      "source": [
        "Write a line of code that appends the value `6` to the end of the second list in `t`. If you display `t`, the result should be `([1, 2, 3], [4, 5, 6])`."
      ]
    },
    {
      "cell_type": "code",
      "execution_count": 80,
      "id": "e6eda0e4",
      "metadata": {
        "tags": [],
        "id": "e6eda0e4",
        "outputId": "36c71ab5-d177-4cdf-9ce2-44da10d1a8de",
        "colab": {
          "base_uri": "https://localhost:8080/"
        }
      },
      "outputs": [
        {
          "output_type": "execute_result",
          "data": {
            "text/plain": [
              "([1, 2, 3], [4, 5, 6])"
            ]
          },
          "metadata": {},
          "execution_count": 80
        }
      ],
      "source": [
        "list1.append(6)\n",
        "t"
      ]
    },
    {
      "cell_type": "markdown",
      "id": "644b1dfb",
      "metadata": {
        "id": "644b1dfb"
      },
      "source": [
        "Try to create a dictionary that maps from `t` to a string, and confirm that you get a `TypeError`."
      ]
    },
    {
      "cell_type": "code",
      "execution_count": 83,
      "id": "4fae1acc",
      "metadata": {
        "tags": [],
        "id": "4fae1acc",
        "outputId": "8a91c00a-1eb1-4e7e-8a69-8fb5a0b3af4e",
        "colab": {
          "base_uri": "https://localhost:8080/",
          "height": 180
        }
      },
      "outputs": [
        {
          "output_type": "error",
          "ename": "TypeError",
          "evalue": "unhashable type: 'list'",
          "traceback": [
            "\u001b[0;31m---------------------------------------------------------------------------\u001b[0m",
            "\u001b[0;31mTypeError\u001b[0m                                 Traceback (most recent call last)",
            "\u001b[0;32m<ipython-input-83-182cea9f76b7>\u001b[0m in \u001b[0;36m<cell line: 1>\u001b[0;34m()\u001b[0m\n\u001b[0;32m----> 1\u001b[0;31m \u001b[0mmy_dict\u001b[0m \u001b[0;34m=\u001b[0m \u001b[0;34m{\u001b[0m\u001b[0mt\u001b[0m\u001b[0;34m:\u001b[0m \u001b[0;34m\"a_string\"\u001b[0m\u001b[0;34m}\u001b[0m\u001b[0;34m\u001b[0m\u001b[0;34m\u001b[0m\u001b[0m\n\u001b[0m        \u001b[0;36mglobal\u001b[0m \u001b[0;36mmy_dict\u001b[0m \u001b[0;34m= \u001b[0;36mundefined\u001b[0m\u001b[0m\u001b[0;34m\n        \u001b[0m\u001b[0;36mglobal\u001b[0m \u001b[0;36mt\u001b[0m \u001b[0;34m= ([1, 2, 3], [4, 5, 6])\u001b[0m\n",
            "\u001b[0;31mTypeError\u001b[0m: unhashable type: 'list'"
          ]
        }
      ],
      "source": [
        "my_dict = {t: \"a_string\"}"
      ]
    },
    {
      "cell_type": "markdown",
      "id": "fb77a352",
      "metadata": {
        "id": "fb77a352"
      },
      "source": [
        "For more on this topic, ask a virtual assistant, \"Are Python tuples always hashable?\""
      ]
    },
    {
      "cell_type": "markdown",
      "id": "bdfc8c27",
      "metadata": {
        "tags": [],
        "id": "bdfc8c27"
      },
      "source": [
        "### Exercise\n",
        "\n",
        "In this chapter we made a dictionary that maps from each letter to its index in the alphabet."
      ]
    },
    {
      "cell_type": "code",
      "execution_count": 84,
      "id": "855c7ed2",
      "metadata": {
        "id": "855c7ed2"
      },
      "outputs": [],
      "source": [
        "letters = 'abcdefghijklmnopqrstuvwxyz'\n",
        "numbers = range(len(letters))\n",
        "letter_map = dict(zip(letters, numbers))"
      ]
    },
    {
      "cell_type": "markdown",
      "id": "a8cd720b",
      "metadata": {
        "id": "a8cd720b"
      },
      "source": [
        "For example, the index of `'a'` is `0`."
      ]
    },
    {
      "cell_type": "code",
      "execution_count": 85,
      "id": "3c921f68",
      "metadata": {
        "id": "3c921f68",
        "outputId": "66347466-7160-4a8c-a77e-917b81d70f62",
        "colab": {
          "base_uri": "https://localhost:8080/"
        }
      },
      "outputs": [
        {
          "output_type": "execute_result",
          "data": {
            "text/plain": [
              "0"
            ]
          },
          "metadata": {},
          "execution_count": 85
        }
      ],
      "source": [
        "letter_map['a']"
      ]
    },
    {
      "cell_type": "markdown",
      "id": "a04c25db",
      "metadata": {
        "id": "a04c25db"
      },
      "source": [
        "To go in the other direction, we can use list indexing.\n",
        "For example, the letter at index `1` is `'b'`."
      ]
    },
    {
      "cell_type": "code",
      "execution_count": 86,
      "id": "b029b0da",
      "metadata": {
        "id": "b029b0da",
        "outputId": "b56b5a62-4c3e-4f2e-91f6-86667039ce7a",
        "colab": {
          "base_uri": "https://localhost:8080/",
          "height": 35
        }
      },
      "outputs": [
        {
          "output_type": "execute_result",
          "data": {
            "text/plain": [
              "'b'"
            ],
            "application/vnd.google.colaboratory.intrinsic+json": {
              "type": "string"
            }
          },
          "metadata": {},
          "execution_count": 86
        }
      ],
      "source": [
        "letters[1]"
      ]
    },
    {
      "cell_type": "markdown",
      "id": "165ab770",
      "metadata": {
        "id": "165ab770"
      },
      "source": [
        "We can use `letter_map` and `letters` to encode and decode words using a Caesar cipher.\n",
        "\n",
        "A Caesar cipher is a weak form of encryption that involves shifting each letter\n",
        "by a fixed number of places in the alphabet, wrapping around to the beginning if necessary. For example, `'a'` shifted by 2 is `'c'` and `'z'` shifted by 1 is `'a'`.\n",
        "\n",
        "Write a function called `shift_word` that takes as parameters a string and an integer, and returns a new string that contains the letters from the string shifted by the given number of places.\n",
        "\n",
        "To test your function, confirm that \"cheer\" shifted by 7 is \"jolly\" and \"melon\" shifted by 16 is \"cubed\".\n",
        "\n",
        "Hints: Use the modulus operator to wrap around from `'z'` back to `'a'`.\n",
        "Loop through the letters of the word, shift each one, and append the result to a list of letters.\n",
        "Then use `join` to concatenate the letters into a string."
      ]
    },
    {
      "cell_type": "markdown",
      "id": "e7478b18",
      "metadata": {
        "tags": [],
        "id": "e7478b18"
      },
      "source": [
        "You can use this outline to get started."
      ]
    },
    {
      "cell_type": "code",
      "execution_count": 88,
      "id": "1cc07036",
      "metadata": {
        "tags": [],
        "id": "1cc07036"
      },
      "outputs": [],
      "source": [
        "def shift_word(word, n):\n",
        "    \"\"\"Shift the letters of `word` by `n` places.\n",
        "\n",
        "    >>> shift_word('cheer', 7)\n",
        "    'jolly'\n",
        "    >>> shift_word('melon', 16)\n",
        "    'cubed'\n",
        "    \"\"\"\n",
        "    letters = 'abcdefghijklmnopqrstuvwxyz'\n",
        "    shifted_letters = []\n",
        "    for letter in word:\n",
        "        if letter in letters:\n",
        "            index = letters.index(letter)\n",
        "            shifted_index = (index + n) % len(letters)\n",
        "            shifted_letters.append(letters[shifted_index])\n",
        "        else:\n",
        "            shifted_letters.append(letter)\n",
        "    return ''.join(shifted_letters)"
      ]
    },
    {
      "cell_type": "code",
      "execution_count": 89,
      "id": "c026c6d1",
      "metadata": {
        "tags": [],
        "id": "c026c6d1",
        "outputId": "85a0a0b8-a60a-4215-a8c5-3201f03556f5",
        "colab": {
          "base_uri": "https://localhost:8080/",
          "height": 35
        }
      },
      "outputs": [
        {
          "output_type": "execute_result",
          "data": {
            "text/plain": [
              "'jolly'"
            ],
            "application/vnd.google.colaboratory.intrinsic+json": {
              "type": "string"
            }
          },
          "metadata": {},
          "execution_count": 89
        }
      ],
      "source": [
        "shift_word('cheer', 7)"
      ]
    },
    {
      "cell_type": "code",
      "execution_count": 90,
      "id": "5814999d",
      "metadata": {
        "tags": [],
        "id": "5814999d",
        "outputId": "72b226d3-780b-45b4-899b-1eadf1e64702",
        "colab": {
          "base_uri": "https://localhost:8080/",
          "height": 35
        }
      },
      "outputs": [
        {
          "output_type": "execute_result",
          "data": {
            "text/plain": [
              "'cubed'"
            ],
            "application/vnd.google.colaboratory.intrinsic+json": {
              "type": "string"
            }
          },
          "metadata": {},
          "execution_count": 90
        }
      ],
      "source": [
        "shift_word('melon', 16)"
      ]
    },
    {
      "cell_type": "markdown",
      "id": "39a67af9",
      "metadata": {
        "tags": [],
        "id": "39a67af9"
      },
      "source": [
        "You can use `doctest` to test your function."
      ]
    },
    {
      "cell_type": "code",
      "execution_count": 91,
      "id": "9464d140",
      "metadata": {
        "tags": [],
        "id": "9464d140",
        "outputId": "a6848b0d-6beb-424c-f71e-d643bfe16cfa",
        "colab": {
          "base_uri": "https://localhost:8080/"
        }
      },
      "outputs": [
        {
          "output_type": "stream",
          "name": "stderr",
          "text": [
            "\n",
            "PYDEV DEBUGGER WARNING:\n",
            "sys.settrace() should not be used when the debugger is being used.\n",
            "This may cause the debugger to stop working correctly.\n",
            "If this is needed, please check: \n",
            "http://pydev.blogspot.com/2007/06/why-cant-pydev-debugger-work-with.html\n",
            "to see how to restore the debug tracing back correctly.\n",
            "Call Location:\n",
            "  File \"/usr/lib/python3.10/doctest.py\", line 1501, in run\n",
            "    sys.settrace(save_trace)\n",
            "\n"
          ]
        }
      ],
      "source": [
        "from doctest import run_docstring_examples\n",
        "\n",
        "def run_doctests(func):\n",
        "    run_docstring_examples(func, globals(), name=func.__name__)\n",
        "\n",
        "run_doctests(shift_word)"
      ]
    },
    {
      "cell_type": "markdown",
      "id": "779f13af",
      "metadata": {
        "id": "779f13af"
      },
      "source": [
        "### Exercise\n",
        "\n",
        "Write a function called `most_frequent_letters` that takes a string and prints the letters in decreasing order of frequency.\n",
        "\n",
        "To get the items in decreasing order, you can use `reversed` along with `sorted` or you can pass `reverse=True` as a keyword parameter to `sorted`."
      ]
    },
    {
      "cell_type": "markdown",
      "id": "d71923e6",
      "metadata": {
        "tags": [],
        "id": "d71923e6"
      },
      "source": [
        "You can use this outline of the function to get started."
      ]
    },
    {
      "cell_type": "code",
      "execution_count": 93,
      "id": "4309d0b5",
      "metadata": {
        "tags": [],
        "id": "4309d0b5"
      },
      "outputs": [],
      "source": [
        "def most_frequent_letters(string):\n",
        "    frequencies = {}\n",
        "    for letter in string:\n",
        "        if letter.isalpha():\n",
        "            letter = letter.lower()\n",
        "            frequencies[letter] = frequencies.get(letter, 0) + 1\n",
        "\n",
        "    sorted_letters = sorted(frequencies.items(), key=lambda item: item[1], reverse=True)\n",
        "\n",
        "    for letter, frequency in sorted_letters:\n",
        "        print(letter, frequency)"
      ]
    },
    {
      "cell_type": "markdown",
      "id": "c6354c44",
      "metadata": {
        "tags": [],
        "id": "c6354c44"
      },
      "source": [
        "And this example to test your function."
      ]
    },
    {
      "cell_type": "code",
      "execution_count": 94,
      "id": "3bf2aa0d",
      "metadata": {
        "tags": [],
        "id": "3bf2aa0d",
        "outputId": "8cbd9966-8a2d-4004-e757-9df97f5a51eb",
        "colab": {
          "base_uri": "https://localhost:8080/"
        }
      },
      "outputs": [
        {
          "output_type": "stream",
          "name": "stdout",
          "text": [
            "r 2\n",
            "o 2\n",
            "s 2\n",
            "u 2\n",
            "b 1\n",
            "n 1\n",
            "t 1\n",
            "a 1\n"
          ]
        }
      ],
      "source": [
        "most_frequent_letters('brontosaurus')"
      ]
    },
    {
      "cell_type": "markdown",
      "id": "2ca1e337",
      "metadata": {
        "tags": [],
        "id": "2ca1e337"
      },
      "source": [
        "Once your function is working, you can use the following code to print the most common letters in *Dracula*, which we can download from Project Gutenberg."
      ]
    },
    {
      "cell_type": "code",
      "execution_count": 95,
      "id": "e4fbf5d9",
      "metadata": {
        "tags": [],
        "id": "e4fbf5d9",
        "outputId": "4afa72a5-aa38-4385-90ed-e454771a3866",
        "colab": {
          "base_uri": "https://localhost:8080/"
        }
      },
      "outputs": [
        {
          "output_type": "stream",
          "name": "stdout",
          "text": [
            "Downloaded pg345.txt\n"
          ]
        }
      ],
      "source": [
        "download('https://www.gutenberg.org/cache/epub/345/pg345.txt');"
      ]
    },
    {
      "cell_type": "code",
      "execution_count": 96,
      "id": "817ec689",
      "metadata": {
        "tags": [],
        "id": "817ec689",
        "outputId": "8e0e594d-5521-4e83-d13e-4785449f8972",
        "colab": {
          "base_uri": "https://localhost:8080/"
        }
      },
      "outputs": [
        {
          "output_type": "stream",
          "name": "stdout",
          "text": [
            "e 81740\n",
            "t 60093\n",
            "a 53776\n",
            "o 52038\n",
            "n 44940\n",
            "h 44087\n",
            "i 44073\n",
            "s 40599\n",
            "r 36509\n",
            "d 29246\n",
            "l 26829\n",
            "u 18637\n",
            "w 18477\n",
            "m 18181\n",
            "f 14469\n",
            "c 14237\n",
            "g 13175\n",
            "y 13152\n",
            "p 9704\n",
            "b 9322\n",
            "k 6383\n",
            "v 6059\n",
            "j 926\n",
            "x 872\n",
            "q 641\n",
            "z 282\n",
            "è 10\n",
            "æ 9\n",
            "ö 9\n",
            "ë 3\n",
            "é 3\n",
            "â 2\n",
            "ï 2\n",
            "á 1\n",
            "ô 1\n",
            "à 1\n"
          ]
        }
      ],
      "source": [
        "string = open('pg345.txt').read()\n",
        "most_frequent_letters(string)"
      ]
    },
    {
      "cell_type": "markdown",
      "id": "211c09c9",
      "metadata": {
        "tags": [],
        "id": "211c09c9"
      },
      "source": [
        "According to Zim's \"Codes and Secret Writing\", the sequence of letters in decreasing order of frequency in English starts with \"ETAONRISH\".\n",
        "How does this sequence compare with the results from *Dracula*?"
      ]
    },
    {
      "cell_type": "markdown",
      "id": "cbe9933e",
      "metadata": {
        "id": "cbe9933e"
      },
      "source": [
        "### Exercise\n",
        "\n",
        "In a previous exercise, we tested whether two strings are anagrams by sorting the letters in both words and checking whether the sorted letters are the same.\n",
        "Now let's make the problem a little more challenging.\n",
        "\n",
        "We'll write a program that takes a list of words and prints all the sets of words that are anagrams.\n",
        "Here is an example of what the output might look like:\n",
        "\n",
        "    ['deltas', 'desalt', 'lasted', 'salted', 'slated', 'staled']\n",
        "    ['retainers', 'ternaries']\n",
        "    ['generating', 'greatening']\n",
        "    ['resmelts', 'smelters', 'termless']\n",
        "\n",
        "Hint: For each word in the word list, sort the letters and join them back into a string. Make a dictionary that maps from this sorted string to a list of words that are anagrams of it."
      ]
    },
    {
      "cell_type": "markdown",
      "id": "4b9ed2a8",
      "metadata": {
        "tags": [],
        "id": "4b9ed2a8"
      },
      "source": [
        "The following cells download `words.txt` and read the words into a list."
      ]
    },
    {
      "cell_type": "code",
      "execution_count": 97,
      "id": "941719c1",
      "metadata": {
        "tags": [],
        "id": "941719c1",
        "outputId": "d7f60447-7faa-49ec-aa35-6a7da6830ee3",
        "colab": {
          "base_uri": "https://localhost:8080/"
        }
      },
      "outputs": [
        {
          "output_type": "stream",
          "name": "stdout",
          "text": [
            "Downloaded words.txt\n"
          ]
        }
      ],
      "source": [
        "download('https://raw.githubusercontent.com/AllenDowney/ThinkPython/v3/words.txt');"
      ]
    },
    {
      "cell_type": "code",
      "execution_count": 98,
      "id": "d2ec641b",
      "metadata": {
        "tags": [],
        "id": "d2ec641b"
      },
      "outputs": [],
      "source": [
        "word_list = open('words.txt').read().split()"
      ]
    },
    {
      "cell_type": "markdown",
      "id": "e4cc2c8c",
      "metadata": {
        "tags": [],
        "id": "e4cc2c8c"
      },
      "source": [
        "Here's the `sort_word` function we've used before."
      ]
    },
    {
      "cell_type": "code",
      "execution_count": 99,
      "id": "7ae29f73",
      "metadata": {
        "tags": [],
        "id": "7ae29f73"
      },
      "outputs": [],
      "source": [
        "def sort_word(word):\n",
        "    return ''.join(sorted(word))"
      ]
    },
    {
      "cell_type": "code",
      "source": [
        "def value_length(pair):\n",
        "    key, value = pair\n",
        "    return len(value)"
      ],
      "metadata": {
        "id": "xcXfbY8hYDmg"
      },
      "id": "xcXfbY8hYDmg",
      "execution_count": 108,
      "outputs": []
    },
    {
      "cell_type": "markdown",
      "id": "70faa9f5",
      "metadata": {
        "tags": [],
        "id": "70faa9f5"
      },
      "source": [
        "To find the longest list of anagrams, you can use the following function, which takes a key-value pair where the key is a string and the value is a list of words.\n",
        "It returns the length of the list."
      ]
    },
    {
      "cell_type": "code",
      "source": [
        "def create_anagram_dict(word_list):\n",
        "    \"\"\"Creates a dictionary where keys are sorted words and values are lists of anagrams.\n",
        "\n",
        "    Args:\n",
        "        word_list: A list of words.\n",
        "\n",
        "    Returns:\n",
        "        A dictionary mapping sorted words to lists of their anagrams.\n",
        "    \"\"\"\n",
        "    anagram_dict = {}\n",
        "    for word in word_list:\n",
        "        sorted_word = sort_word(word)  # Get the sorted representation\n",
        "        anagram_dict.setdefault(sorted_word, []).append(word)  # Add to dictionary\n",
        "    return anagram_dict\n",
        "\n",
        "# Assuming you have a word_list (like from words.txt)\n",
        "anagram_dict = create_anagram_dict(word_list)\n",
        "\n",
        "# Sort the anagram_dict items based on value length\n",
        "anagram_items = sorted(anagram_dict.items(), key=value_length, reverse=True)\n",
        "\n",
        "# Now you can use anagram_items in the loop\n",
        "longest = 7\n",
        "for key, value in anagram_items:\n",
        "    if len(value) > 1:\n",
        "        word_len = len(value[0])\n",
        "        if word_len > longest:\n",
        "            longest = word_len\n",
        "            print(value)"
      ],
      "metadata": {
        "id": "0xseM51dYRFE",
        "outputId": "34022541-a9ac-4b99-b1f4-76b8b1ee78be",
        "colab": {
          "base_uri": "https://localhost:8080/"
        }
      },
      "id": "0xseM51dYRFE",
      "execution_count": 111,
      "outputs": [
        {
          "output_type": "stream",
          "name": "stdout",
          "text": [
            "['angriest', 'astringe', 'ganister', 'gantries', 'granites', 'ingrates', 'rangiest']\n",
            "['centiares', 'cisternae', 'creatines', 'iterances', 'nectaries']\n",
            "['evilnesses', 'livenesses', 'vilenesses']\n",
            "['altercations', 'intercoastal']\n",
            "['certification', 'rectification']\n",
            "['certifications', 'rectifications']\n",
            "['impressivenesses', 'permissivenesses']\n"
          ]
        }
      ]
    },
    {
      "cell_type": "markdown",
      "id": "dcda6e28",
      "metadata": {
        "tags": [],
        "id": "dcda6e28"
      },
      "source": [
        "We can use this function as a sort key to find the longest lists of anagrams."
      ]
    },
    {
      "cell_type": "markdown",
      "id": "0b6d5add",
      "metadata": {
        "tags": [],
        "id": "0b6d5add"
      },
      "source": [
        "If you want to know the longest words that have anagrams, you can use the following loop to print some of them."
      ]
    },
    {
      "cell_type": "code",
      "execution_count": 112,
      "id": "6a9320c2",
      "metadata": {
        "tags": [],
        "id": "6a9320c2",
        "outputId": "4069a085-9468-407d-8b88-efa0a4214e73",
        "colab": {
          "base_uri": "https://localhost:8080/"
        }
      },
      "outputs": [
        {
          "output_type": "stream",
          "name": "stdout",
          "text": [
            "['angriest', 'astringe', 'ganister', 'gantries', 'granites', 'ingrates', 'rangiest']\n",
            "['centiares', 'cisternae', 'creatines', 'iterances', 'nectaries']\n",
            "['evilnesses', 'livenesses', 'vilenesses']\n",
            "['altercations', 'intercoastal']\n",
            "['certification', 'rectification']\n",
            "['certifications', 'rectifications']\n",
            "['impressivenesses', 'permissivenesses']\n"
          ]
        }
      ],
      "source": [
        "longest = 7\n",
        "\n",
        "for key, value in anagram_items:\n",
        "    if len(value) > 1:\n",
        "        word_len = len(value[0])\n",
        "        if word_len > longest:\n",
        "            longest = word_len\n",
        "            print(value)"
      ]
    },
    {
      "cell_type": "markdown",
      "id": "4fbe939e",
      "metadata": {
        "id": "4fbe939e"
      },
      "source": [
        "### Exercise\n",
        "\n",
        "Write a function called `word_distance` that takes two words with the same length and returns the number of places where the two words differ.\n",
        "\n",
        "Hint: Use `zip` to loop through the corresponding letters of the words."
      ]
    },
    {
      "cell_type": "markdown",
      "id": "8b48dbdc",
      "metadata": {
        "tags": [],
        "id": "8b48dbdc"
      },
      "source": [
        "Here's an outline of the function with doctests you can use to check your function."
      ]
    },
    {
      "cell_type": "code",
      "execution_count": 113,
      "id": "3d5a75f8",
      "metadata": {
        "tags": [],
        "id": "3d5a75f8"
      },
      "outputs": [],
      "source": [
        "def word_distance(word1, word2):\n",
        "    \"\"\"Computes the number of places where two word differ.\n",
        "\n",
        "    >>> word_distance(\"hello\", \"hxllo\")\n",
        "    1\n",
        "    >>> word_distance(\"ample\", \"apply\")\n",
        "    2\n",
        "    >>> word_distance(\"kitten\", \"mutton\")\n",
        "    3\n",
        "    \"\"\"\n",
        "    distance = 0\n",
        "    for letter1, letter2 in zip(word1, word2):\n",
        "      if letter1 != letter2:\n",
        "        distance += 1\n",
        "    return distance"
      ]
    },
    {
      "cell_type": "code",
      "execution_count": 114,
      "id": "a9816dde",
      "metadata": {
        "id": "a9816dde",
        "outputId": "35a2bea3-59c4-478a-d9db-9849e3a64c8c",
        "colab": {
          "base_uri": "https://localhost:8080/"
        }
      },
      "outputs": [
        {
          "output_type": "execute_result",
          "data": {
            "text/plain": [
              "2"
            ]
          },
          "metadata": {},
          "execution_count": 114
        }
      ],
      "source": [
        "word_distance(\"ample\", \"apply\")"
      ]
    },
    {
      "cell_type": "code",
      "execution_count": 115,
      "id": "753a23c1",
      "metadata": {
        "tags": [],
        "id": "753a23c1"
      },
      "outputs": [],
      "source": [
        "from doctest import run_docstring_examples\n",
        "\n",
        "def run_doctests(func):\n",
        "    run_docstring_examples(func, globals(), name=func.__name__)\n",
        "\n",
        "run_doctests(word_distance)"
      ]
    },
    {
      "cell_type": "markdown",
      "id": "066eec59",
      "metadata": {
        "id": "066eec59"
      },
      "source": [
        "### Exercise\n",
        "\n",
        "\"Metathesis\" is the transposition of letters in a word.\n",
        "Two words form a \"metathesis pair\" if you can transform one into the other by swapping two letters, like `converse` and `conserve`.\n",
        "Write a program that finds all of the metathesis pairs in the word list.\n",
        "\n",
        "Hint: The words in a metathesis pair must be anagrams of each other.\n",
        "\n",
        "Credit: This exercise is inspired by an example at <http://puzzlers.org>."
      ]
    },
    {
      "cell_type": "code",
      "execution_count": 118,
      "id": "57649075",
      "metadata": {
        "id": "57649075"
      },
      "outputs": [],
      "source": [
        "def find_metathesis_pairs(word_list):\n",
        "    pattern_dict = {}\n",
        "    metathesis_pairs = []\n",
        "\n",
        "    for word in word_list:\n",
        "        pattern = tuple(word[i] if i in (0, len(word) - 1) else '*' for i in range(len(word)))\n",
        "        if pattern in pattern_dict:\n",
        "            for existing_word in pattern_dict[pattern]:\n",
        "                if sorted(word) == sorted(existing_word) and word_distance(word, existing_word) == 2:\n",
        "                    metathesis_pairs.append((existing_word, word))\n",
        "        pattern_dict.setdefault(pattern, []).append(word)\n",
        "\n",
        "    return metathesis_pairs"
      ]
    },
    {
      "cell_type": "markdown",
      "id": "6a028806",
      "metadata": {
        "tags": [],
        "id": "6a028806"
      },
      "source": [
        "### Exercise\n",
        "\n",
        "This is a bonus exercise that is not in the book.\n",
        "It is more challenging than the other exercises in this chapter, so you might want to ask a virtual assistant for help, or come back to it after you've read a few more chapters.\n",
        "\n",
        "Here's another Car Talk Puzzler\n",
        "(<http://www.cartalk.com/content/puzzlers>):\n",
        "\n",
        "> What is the longest English word, that remains a valid English word,\n",
        "> as you remove its letters one at a time?\n",
        ">\n",
        "> Now, letters can be removed from either end, or the middle, but you\n",
        "> can't rearrange any of the letters. Every time you drop a letter, you\n",
        "> wind up with another English word. If you do that, you're eventually\n",
        "> going to wind up with one letter and that too is going to be an\n",
        "> English word---one that's found in the dictionary. I want to know\n",
        "> what's the longest word and how many letters does it have?\n",
        ">\n",
        "> I'm going to give you a little modest example: Sprite. Ok? You start\n",
        "> off with sprite, you take a letter off, one from the interior of the\n",
        "> word, take the r away, and we're left with the word spite, then we\n",
        "> take the e off the end, we're left with spit, we take the s off, we're\n",
        "> left with pit, it, and I.\n",
        "\n",
        "Write a program to find all words that can be reduced in this way, and\n",
        "then find the longest one.\n",
        "\n",
        "This exercise is a little more challenging than most, so here are some\n",
        "suggestions:\n",
        "\n",
        "1.  You might want to write a function that takes a word and computes a\n",
        "    list of all the words that can be formed by removing one letter.\n",
        "    These are the \"children\" of the word.\n",
        "\n",
        "2.  Recursively, a word is reducible if any of its children are\n",
        "    reducible. As a base case, you can consider the empty string\n",
        "    reducible.\n",
        "\n",
        "3.  The word list we've been using doesn't contain single letter\n",
        "    words. So you might have to add \"I\" and \"a\".\n",
        "\n",
        "4.  To improve the performance of your program, you might want to\n",
        "    memoize the words that are known to be reducible."
      ]
    },
    {
      "cell_type": "code",
      "execution_count": null,
      "id": "c19bf833",
      "metadata": {
        "id": "c19bf833"
      },
      "outputs": [],
      "source": [
        "# Solution goes here"
      ]
    },
    {
      "cell_type": "code",
      "execution_count": null,
      "id": "2d9764d6",
      "metadata": {
        "id": "2d9764d6"
      },
      "outputs": [],
      "source": [
        "# Solution goes here"
      ]
    },
    {
      "cell_type": "code",
      "execution_count": null,
      "id": "5e4f5d8e",
      "metadata": {
        "id": "5e4f5d8e"
      },
      "outputs": [],
      "source": [
        "# Solution goes here"
      ]
    },
    {
      "cell_type": "code",
      "execution_count": null,
      "id": "27d311dd",
      "metadata": {
        "id": "27d311dd"
      },
      "outputs": [],
      "source": [
        "# Solution goes here"
      ]
    },
    {
      "cell_type": "code",
      "execution_count": null,
      "id": "68c27c7e",
      "metadata": {
        "id": "68c27c7e"
      },
      "outputs": [],
      "source": [
        "# Solution goes here"
      ]
    },
    {
      "cell_type": "markdown",
      "id": "a7f4edf8",
      "metadata": {
        "tags": [],
        "id": "a7f4edf8"
      },
      "source": [
        "[Think Python: 3rd Edition](https://allendowney.github.io/ThinkPython/index.html)\n",
        "\n",
        "Copyright 2024 [Allen B. Downey](https://allendowney.com)\n",
        "\n",
        "Code license: [MIT License](https://mit-license.org/)\n",
        "\n",
        "Text license: [Creative Commons Attribution-NonCommercial-ShareAlike 4.0 International](https://creativecommons.org/licenses/by-nc-sa/4.0/)"
      ]
    }
  ],
  "metadata": {
    "celltoolbar": "Tags",
    "kernelspec": {
      "display_name": "Python 3 (ipykernel)",
      "language": "python",
      "name": "python3"
    },
    "language_info": {
      "codemirror_mode": {
        "name": "ipython",
        "version": 3
      },
      "file_extension": ".py",
      "mimetype": "text/x-python",
      "name": "python",
      "nbconvert_exporter": "python",
      "pygments_lexer": "ipython3",
      "version": "3.10.11"
    },
    "colab": {
      "provenance": []
    }
  },
  "nbformat": 4,
  "nbformat_minor": 5
}